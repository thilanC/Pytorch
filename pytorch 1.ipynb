{
 "cells": [
  {
   "cell_type": "code",
   "execution_count": 15,
   "id": "f867d589",
   "metadata": {},
   "outputs": [],
   "source": [
    "import torch"
   ]
  },
  {
   "cell_type": "code",
   "execution_count": 17,
   "id": "a38de109",
   "metadata": {},
   "outputs": [
    {
     "name": "stdout",
     "output_type": "stream",
     "text": [
      "tensor([7]) 1 torch.Size([1])\n"
     ]
    }
   ],
   "source": [
    "scalars = torch.tensor([7])\n",
    "print(scalars, scalars.ndim, scalars.shape)"
   ]
  },
  {
   "cell_type": "code",
   "execution_count": 18,
   "id": "2dbe6139",
   "metadata": {},
   "outputs": [
    {
     "name": "stdout",
     "output_type": "stream",
     "text": [
      "tensor([1, 2, 3]) 1 torch.Size([3])\n"
     ]
    }
   ],
   "source": [
    "vector = torch.tensor([1,2,3])\n",
    "print(vector,vector.ndim,vector.shape)"
   ]
  },
  {
   "cell_type": "code",
   "execution_count": 19,
   "id": "f331389e",
   "metadata": {},
   "outputs": [
    {
     "name": "stdout",
     "output_type": "stream",
     "text": [
      "tensor([[1, 2],\n",
      "        [3, 4]]) 2 torch.Size([2, 2])\n"
     ]
    }
   ],
   "source": [
    "matrix = torch.tensor([[1,2],[3,4]])\n",
    "print(matrix, matrix.ndim, matrix.shape)"
   ]
  },
  {
   "cell_type": "code",
   "execution_count": 20,
   "id": "a9a586e1",
   "metadata": {},
   "outputs": [
    {
     "name": "stdout",
     "output_type": "stream",
     "text": [
      "tensor([[[1, 2],\n",
      "         [3, 4]],\n",
      "\n",
      "        [[5, 6],\n",
      "         [7, 8]]]) 3 torch.Size([2, 2, 2])\n"
     ]
    }
   ],
   "source": [
    "tensor_3d = torch.tensor([[[1,2],[3,4]],[[5,6],[7,8]]])\n",
    "print(tensor_3d,tensor_3d.ndim,tensor_3d.shape)"
   ]
  },
  {
   "cell_type": "code",
   "execution_count": 21,
   "id": "877fed73",
   "metadata": {},
   "outputs": [
    {
     "name": "stdout",
     "output_type": "stream",
     "text": [
      "tensor([[1, 2, 3],\n",
      "        [2, 3, 4]]) torch.Size([2, 3])\n"
     ]
    }
   ],
   "source": [
    "#create tensor from a list\n",
    "\n",
    "data = [[1,2,3],[2,3,4]]\n",
    "tensor_list = torch.tensor(data)\n",
    "print(tensor_list,tensor_list.shape)"
   ]
  },
  {
   "cell_type": "code",
   "execution_count": 22,
   "id": "35fb46ab",
   "metadata": {},
   "outputs": [
    {
     "name": "stdout",
     "output_type": "stream",
     "text": [
      "[[1 2 3]\n",
      " [2 3 4]]\n",
      "tensor([[1, 2, 3],\n",
      "        [2, 3, 4]]) torch.Size([2, 3])\n"
     ]
    }
   ],
   "source": [
    "#create tensor from numpy array\n",
    "\n",
    "import numpy as np\n",
    "\n",
    "np_array = np.array(data)\n",
    "print(np_array)\n",
    "\n",
    "np_tensor = torch.from_numpy(np_array)\n",
    "print(np_tensor,np_tensor.shape)"
   ]
  },
  {
   "cell_type": "code",
   "execution_count": 28,
   "id": "eaba326d",
   "metadata": {},
   "outputs": [
    {
     "name": "stdout",
     "output_type": "stream",
     "text": [
      "tensor([[[1., 1., 1.],\n",
      "         [1., 1., 1.],\n",
      "         [1., 1., 1.]],\n",
      "\n",
      "        [[1., 1., 1.],\n",
      "         [1., 1., 1.],\n",
      "         [1., 1., 1.]]])\n",
      "tensor([[0., 0., 0.],\n",
      "        [0., 0., 0.]])\n",
      "tensor([[[[0.1284, 0.3873, 0.4010, 0.7277],\n",
      "          [0.8496, 0.8646, 0.3889, 0.8232],\n",
      "          [0.3937, 0.0893, 0.9219, 0.5973]],\n",
      "\n",
      "         [[0.6607, 0.9731, 0.9671, 0.9316],\n",
      "          [0.9574, 0.8499, 0.3460, 0.5272],\n",
      "          [0.2591, 0.5493, 0.3196, 0.4903]],\n",
      "\n",
      "         [[0.5863, 0.7937, 0.0903, 0.5127],\n",
      "          [0.3827, 0.9048, 0.2042, 0.7489],\n",
      "          [0.5938, 0.0657, 0.2730, 0.3484]]],\n",
      "\n",
      "\n",
      "        [[[0.6997, 0.3320, 0.0231, 0.2782],\n",
      "          [0.5322, 0.8034, 0.8115, 0.4403],\n",
      "          [0.1208, 0.1415, 0.4105, 0.4535]],\n",
      "\n",
      "         [[0.9007, 0.6739, 0.0060, 0.5914],\n",
      "          [0.3327, 0.6970, 0.5030, 0.5184],\n",
      "          [0.0299, 0.9158, 0.1403, 0.6682]],\n",
      "\n",
      "         [[0.2686, 0.5671, 0.8896, 0.9896],\n",
      "          [0.9852, 0.5136, 0.2731, 0.5140],\n",
      "          [0.6062, 0.6159, 0.3607, 0.3996]]]])\n"
     ]
    }
   ],
   "source": [
    "# Direct creation\n",
    "zeros = torch.zeros((2, 3))       # all zeros\n",
    "ones = torch.ones((2, 3,3))         # all ones\n",
    "rand = torch.rand((2, 3,3,4))         # random numbers (0–1)\n",
    "\n",
    "print(ones)\n",
    "print(zeros)\n",
    "print(rand)"
   ]
  },
  {
   "cell_type": "code",
   "execution_count": 29,
   "id": "97edb083",
   "metadata": {},
   "outputs": [
    {
     "name": "stdout",
     "output_type": "stream",
     "text": [
      "Shape: torch.Size([3, 4])\n",
      "Datatype: torch.float32\n",
      "Device: cpu\n"
     ]
    }
   ],
   "source": [
    "tensor = torch.rand((3, 4), dtype=torch.float32)\n",
    "\n",
    "print(f\"Shape: {tensor.shape}\")\n",
    "print(f\"Datatype: {tensor.dtype}\")\n",
    "print(f\"Device: {tensor.device}\")\n"
   ]
  },
  {
   "cell_type": "code",
   "execution_count": 30,
   "id": "55a467e4",
   "metadata": {},
   "outputs": [
    {
     "name": "stdout",
     "output_type": "stream",
     "text": [
      "tensor([5, 7, 9])\n",
      "tensor([ 4, 10, 18])\n",
      "tensor(32)\n"
     ]
    }
   ],
   "source": [
    "a = torch.tensor([1, 2, 3])\n",
    "b = torch.tensor([4, 5, 6])\n",
    "\n",
    "print(a + b)      # elementwise add\n",
    "print(a * b)      # elementwise multiply\n",
    "print(a @ b)      # dot product (vector multiplication)\n"
   ]
  },
  {
   "cell_type": "code",
   "execution_count": 35,
   "id": "6b3b14a1",
   "metadata": {},
   "outputs": [
    {
     "name": "stdout",
     "output_type": "stream",
     "text": [
      "tensor(4.)\n",
      "tensor(2., requires_grad=True)\n"
     ]
    }
   ],
   "source": [
    "# requires_grad=True tells PyTorch to track operations\n",
    "x = torch.tensor(2.0, requires_grad=True)\n",
    "\n",
    "y = x ** 2        # y = x^2\n",
    "y.backward()      # compute gradient dy/dx\n",
    "\n",
    "print(x.grad)     # Should print 4 (since dy/dx = 2x = 4 when x=2)\n",
    "print(x)"
   ]
  },
  {
   "cell_type": "code",
   "execution_count": 38,
   "id": "a4d3107c",
   "metadata": {},
   "outputs": [
    {
     "name": "stdout",
     "output_type": "stream",
     "text": [
      "None\n",
      "tensor(4.)\n",
      "tensor(11.)\n"
     ]
    }
   ],
   "source": [
    "x = torch.tensor(3.0, requires_grad=True)\n",
    "z = torch.tensor(4.0, requires_grad=True)\n",
    "\n",
    "y = x * z + z ** 2   # y = xz + z²\n",
    "diff = y.backward()\n",
    "\n",
    "print(diff)\n",
    "\n",
    "print(x.grad)   # dy/dx = z = 4\n",
    "print(z.grad)   # dy/dz = x + 2z = 3 + 8 = 11\n"
   ]
  },
  {
   "cell_type": "code",
   "execution_count": 40,
   "id": "cb3c6f44",
   "metadata": {},
   "outputs": [
    {
     "name": "stdout",
     "output_type": "stream",
     "text": [
      "The function is y = x^2, where x = 3.0\n",
      "The value of y is: 9.0\n",
      "The numerical derivative at x=3 is: 6.0\n"
     ]
    }
   ],
   "source": [
    "import torch\n",
    "\n",
    "# Define the function as a series of PyTorch operations\n",
    "x = torch.tensor(3.0, requires_grad=True)\n",
    "y = x**2\n",
    "\n",
    "# We can see the function and its value\n",
    "print(f\"The function is y = x^2, where x = {x.item()}\")\n",
    "print(f\"The value of y is: {y.item()}\")\n",
    "\n",
    "# This computes the derivative, which is dy/dx = 2x.\n",
    "# At x=3, the derivative is 2*3 = 6.\n",
    "y.backward()\n",
    "\n",
    "# We can access the numerical value of the derivative at x=3\n",
    "print(f\"The numerical derivative at x=3 is: {x.grad.item()}\")"
   ]
  },
  {
   "cell_type": "code",
   "execution_count": 41,
   "id": "fc49dd30",
   "metadata": {},
   "outputs": [
    {
     "name": "stdout",
     "output_type": "stream",
     "text": [
      "The first derivative (2x) at x=2 is: 4.0\n",
      "The second derivative (2) is: 2.0\n"
     ]
    }
   ],
   "source": [
    "import torch\n",
    "\n",
    "# Define x with requires_grad=True\n",
    "x = torch.tensor(2.0, requires_grad=True)\n",
    "\n",
    "# First function: y = x^2\n",
    "y = x**2\n",
    "\n",
    "# First derivative: dy/dx = 2x\n",
    "# To get the second derivative, we need to save the graph\n",
    "# The create_graph=True argument builds a new graph for the backward pass\n",
    "grad_1 = torch.autograd.grad(y, x, create_graph=True)[0]\n",
    "\n",
    "# Now compute the second derivative\n",
    "# The second derivative is d^2y/dx^2 = d(2x)/dx = 2\n",
    "grad_2 = torch.autograd.grad(grad_1, x)[0]\n",
    "\n",
    "print(f\"The first derivative (2x) at x=2 is: {grad_1.item()}\")\n",
    "print(f\"The second derivative (2) is: {grad_2.item()}\")"
   ]
  },
  {
   "cell_type": "code",
   "execution_count": null,
   "id": "6eb0c947",
   "metadata": {},
   "outputs": [],
   "source": []
  }
 ],
 "metadata": {
  "kernelspec": {
   "display_name": "pytorch_env",
   "language": "python",
   "name": "python3"
  },
  "language_info": {
   "codemirror_mode": {
    "name": "ipython",
    "version": 3
   },
   "file_extension": ".py",
   "mimetype": "text/x-python",
   "name": "python",
   "nbconvert_exporter": "python",
   "pygments_lexer": "ipython3",
   "version": "3.12.11"
  }
 },
 "nbformat": 4,
 "nbformat_minor": 5
}
