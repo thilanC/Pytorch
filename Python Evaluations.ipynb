{
 "cells": [
  {
   "cell_type": "code",
   "execution_count": 2,
   "id": "ff52a966",
   "metadata": {},
   "outputs": [],
   "source": [
    "def even_numbers():\n",
    "    \"\"\"Print all even numbers from 1 to 50.\"\"\"\n",
    "    for i in range(1,51):\n",
    "        if i % 2 == 0:\n",
    "            print(i)\n",
    "        else:\n",
    "            continue"
   ]
  },
  {
   "cell_type": "code",
   "execution_count": 3,
   "id": "8442cce4",
   "metadata": {},
   "outputs": [
    {
     "name": "stdout",
     "output_type": "stream",
     "text": [
      "2\n",
      "4\n",
      "6\n",
      "8\n",
      "10\n",
      "12\n",
      "14\n",
      "16\n",
      "18\n",
      "20\n",
      "22\n",
      "24\n",
      "26\n",
      "28\n",
      "30\n",
      "32\n",
      "34\n",
      "36\n",
      "38\n",
      "40\n",
      "42\n",
      "44\n",
      "46\n",
      "48\n",
      "50\n"
     ]
    }
   ],
   "source": [
    "even_numbers()"
   ]
  },
  {
   "cell_type": "code",
   "execution_count": 4,
   "id": "6c2eeec7",
   "metadata": {},
   "outputs": [],
   "source": [
    "list1 = [10, 21, 4, 45, 66, 93]\n",
    "    "
   ]
  },
  {
   "cell_type": "code",
   "execution_count": 5,
   "id": "2c6c96ca",
   "metadata": {},
   "outputs": [
    {
     "name": "stdout",
     "output_type": "stream",
     "text": [
      "Sum of all elements in given list:  239\n",
      "Largest number in the list is: 93\n",
      "Largest number in the list is: 93\n",
      "Smallest number in the list is: 4\n",
      "Smallest number in the list is: 4\n"
     ]
    }
   ],
   "source": [
    "sum1 = 0\n",
    "for num in list1:   \n",
    "    sum1 = sum1 + num  \n",
    "print(\"Sum of all elements in given list: \", sum1)  \n",
    "\n",
    "largest_num = max(list1)\n",
    "print(\"Largest number in the list is:\", largest_num)    \n",
    "\n",
    "# or we can use below for find largest number\n",
    "\n",
    "largest_num1 = list1[0]\n",
    "for num in list1:\n",
    "    if num > largest_num1:\n",
    "        largest_num1 = num  \n",
    "print(\"Largest number in the list is:\", largest_num1)\n",
    "\n",
    "smallest_num = min(list1)\n",
    "print(\"Smallest number in the list is:\", smallest_num)    \n",
    "\n",
    "# or we can use below for find samllest number\n",
    "\n",
    "samllest_num1 = list1[0]\n",
    "for num in list1:\n",
    "    if num < samllest_num1:\n",
    "        samllest_num1 = num  \n",
    "print(\"Smallest number in the list is:\", samllest_num1)\n"
   ]
  },
  {
   "cell_type": "code",
   "execution_count": 20,
   "id": "ceffc8d2",
   "metadata": {},
   "outputs": [
    {
     "name": "stdout",
     "output_type": "stream",
     "text": [
      "Reversed string is: hcroTyP\n",
      "hcroTyP"
     ]
    }
   ],
   "source": [
    "name = \"PyTorch\"\n",
    "\n",
    "reversed_name = name[::-1]\n",
    "print(\"Reversed string is:\", reversed_name)\n",
    "\n",
    "for k in range(len(name)-1, -1, -1):\n",
    "    print(name[k], end=\"\")  "
   ]
  },
  {
   "cell_type": "code",
   "execution_count": 26,
   "id": "f2d4c2d8",
   "metadata": {},
   "outputs": [
    {
     "name": "stdout",
     "output_type": "stream",
     "text": [
      "apple\n",
      "banana\n",
      "orange\n",
      "grape\n",
      "2\n",
      "3\n",
      "1\n",
      "4\n",
      "{'apple': 5, 'banana': 3, 'orange': 1, 'grape': 4}\n"
     ]
    }
   ],
   "source": [
    "fruits = {\"apple\": 2, \"banana\": 3, \"orange\": 1, \"grape\": 4}\n",
    "\n",
    "for key in fruits:\n",
    "    print(key)\n",
    "\n",
    "for value in fruits.values():\n",
    "    print(value)\n",
    "\n",
    "fruits[\"apple\"]= 5\n",
    "\n",
    "print(fruits)"
   ]
  },
  {
   "cell_type": "code",
   "execution_count": 49,
   "id": "8dbeed55",
   "metadata": {},
   "outputs": [],
   "source": [
    "class Car:\n",
    "    def __init__(self,brand:str,speed:float = 0):\n",
    "        self.brand = brand\n",
    "        self.speed = speed\n",
    "    \n",
    "    def accelerate(self,amount:float):\n",
    "        self.speed += amount\n",
    "    \n",
    "    def brake(self,amount:float):\n",
    "        self.speed = max (0, self.speed-amount)\n",
    "\n",
    "    def __str__(self):\n",
    "        msg = f\"Car brand is {self.brand} and its current speed {self.speed}\"\n",
    "        return msg\n"
   ]
  },
  {
   "cell_type": "code",
   "execution_count": 52,
   "id": "20b31fca",
   "metadata": {},
   "outputs": [
    {
     "name": "stdout",
     "output_type": "stream",
     "text": [
      "Car brand is toyota and its current speed 30\n"
     ]
    }
   ],
   "source": [
    "car1 = Car(\"toyota\",30)\n",
    "print(car1)"
   ]
  },
  {
   "cell_type": "code",
   "execution_count": 53,
   "id": "804b3eb1",
   "metadata": {},
   "outputs": [
    {
     "name": "stdout",
     "output_type": "stream",
     "text": [
      "Car brand is toyota and its current speed 50\n",
      "Car brand is toyota and its current speed 0\n"
     ]
    }
   ],
   "source": [
    "car1.accelerate(20)\n",
    "print(car1)   # Car brand is BMW, current speed: 70 km/h\n",
    "\n",
    "car1.brake(100)\n",
    "print(car1)   # Car brand is BMW, current speed: 0 km/h"
   ]
  },
  {
   "cell_type": "markdown",
   "id": "6bf310da",
   "metadata": {},
   "source": [
    "📝 Task 1: FizzBuzz (Logic + Loops)\n",
    "\n",
    "Write a program that prints numbers from 1 to 30, but:\n",
    "\n",
    "If the number is divisible by 3 → print \"Fizz\"\n",
    "\n",
    "If divisible by 5 → print \"Buzz\"\n",
    "\n",
    "If divisible by both 3 and 5 → print \"FizzBuzz\"\n",
    "\n",
    "Otherwise → print the number itself"
   ]
  },
  {
   "cell_type": "code",
   "execution_count": 62,
   "id": "a30da4af",
   "metadata": {},
   "outputs": [
    {
     "name": "stdout",
     "output_type": "stream",
     "text": [
      "1\n",
      "2\n",
      "Fizz\n",
      "4\n",
      "Buzz\n",
      "Fizz\n",
      "7\n",
      "8\n",
      "Fizz\n",
      "Buzz\n",
      "11\n",
      "Fizz\n",
      "13\n",
      "14\n",
      "FizzBuzz\n",
      "16\n",
      "17\n",
      "Fizz\n",
      "19\n",
      "Buzz\n",
      "Fizz\n",
      "22\n",
      "23\n",
      "Fizz\n",
      "Buzz\n",
      "26\n",
      "Fizz\n",
      "28\n",
      "29\n",
      "FizzBuzz\n"
     ]
    }
   ],
   "source": [
    "for i in range(1,31):\n",
    "    if (i % 3 == 0) and (i % 5 == 0):\n",
    "        print(\"FizzBuzz\")\n",
    "    elif i % 3 == 0:\n",
    "        print(\"Fizz\")\n",
    "    elif i % 5 == 0:\n",
    "        print(\"Buzz\")\n",
    "    else:\n",
    "        print(i)"
   ]
  },
  {
   "cell_type": "markdown",
   "id": "85dccdb2",
   "metadata": {},
   "source": [
    "Task 2: Word Counter\n",
    "\n",
    "Write a function word_count(text) that:\n",
    "\n",
    "Takes a string (sentence) as input\n",
    "\n",
    "Returns a dictionary with each word and how many times it appears"
   ]
  },
  {
   "cell_type": "code",
   "execution_count": 63,
   "id": "a9f2b739",
   "metadata": {},
   "outputs": [],
   "source": [
    "sentence = \"My name is thilan. He is a student\""
   ]
  },
  {
   "cell_type": "code",
   "execution_count": 79,
   "id": "3e5378d1",
   "metadata": {},
   "outputs": [],
   "source": [
    "def word_count(sentence:str):\n",
    "    list = sentence.split()\n",
    "    dictionary = {}\n",
    "    for i in list:\n",
    "        count = list.count(i)\n",
    "        dictionary[i]= count\n",
    "    return dictionary"
   ]
  },
  {
   "cell_type": "code",
   "execution_count": 80,
   "id": "a415033b",
   "metadata": {},
   "outputs": [
    {
     "data": {
      "text/plain": [
       "{'My': 1, 'name': 1, 'is': 2, 'thilan.': 1, 'He': 1, 'a': 1, 'student': 1}"
      ]
     },
     "execution_count": 80,
     "metadata": {},
     "output_type": "execute_result"
    }
   ],
   "source": [
    "word_count(sentence)"
   ]
  },
  {
   "cell_type": "markdown",
   "id": "b851fff2",
   "metadata": {},
   "source": [
    "👉 Task 3: BankAccount Class (OOP)\n",
    "\n",
    "Create a class BankAccount with:\n",
    "\n",
    "Attributes:\n",
    "\n",
    "owner (string)\n",
    "\n",
    "balance (float, default = 0)\n",
    "\n",
    "Methods:\n",
    "\n",
    "deposit(amount) → adds money to balance\n",
    "\n",
    "withdraw(amount) → subtracts money, but not below 0\n",
    "\n",
    "__str__() → returns \"Owner: <owner>, Balance: <balance>\""
   ]
  },
  {
   "cell_type": "code",
   "execution_count": 87,
   "id": "e10ef4a9",
   "metadata": {},
   "outputs": [],
   "source": [
    "class BankAccount:\n",
    "    def __init__(self,owner:str,balance:float = 0):\n",
    "        self.owner = owner\n",
    "        self.balance = balance\n",
    "\n",
    "    def deposit(self,amount=float):\n",
    "        self.balance = self.balance + amount\n",
    "        return self.balance\n",
    "    \n",
    "    def withdraw(self,amount=float):\n",
    "        self.balance = max(self.balance - amount,0)\n",
    "        return self.balance\n",
    "    \n",
    "    def __str__(self):\n",
    "        msg = f\"Owner {self.owner}, Balance {self.balance}\"\n",
    "        return msg"
   ]
  },
  {
   "cell_type": "code",
   "execution_count": 88,
   "id": "8de619b5",
   "metadata": {},
   "outputs": [
    {
     "name": "stdout",
     "output_type": "stream",
     "text": [
      "Owner Alice, Balance 120\n"
     ]
    }
   ],
   "source": [
    "acc = BankAccount(\"Alice\", 100)\n",
    "acc.deposit(50)\n",
    "acc.withdraw(30)\n",
    "print(acc)  \n",
    "# Output: Owner: Alice, Balance: 120\n"
   ]
  },
  {
   "cell_type": "markdown",
   "id": "81739c6a",
   "metadata": {},
   "source": []
  },
  {
   "cell_type": "code",
   "execution_count": 103,
   "id": "16c2a311",
   "metadata": {},
   "outputs": [],
   "source": [
    "# Student Grade Manager\n",
    "\n",
    "class Student:\n",
    "    def __init__(self, name):\n",
    "        self.name = name\n",
    "        self.grades = []\n",
    "    \n",
    "    def add_grade(self, grade):\n",
    "        self.grades.append(grade)\n",
    "    \n",
    "    def average(self):\n",
    "        if len(self.grades) == 0:\n",
    "            return 0\n",
    "        return sum(self.grades) / len(self.grades)\n",
    "    \n",
    "    def __str__(self):\n",
    "        return f\"{self.name} | Grades: {self.grades} | Avg: {self.average():.2f}\"\n",
    "\n",
    "\n",
    "class GradeManager:\n",
    "    def __init__(self):\n",
    "        self.students = {}\n",
    "\n",
    "    def top_student(self):\n",
    "        if not self.students:\n",
    "            return None\n",
    "        \n",
    "        top = None\n",
    "        max_avg = -1\n",
    "        for student in self.students.values():\n",
    "            avg = student.average()\n",
    "            if avg > max_avg:\n",
    "                max_avg = avg\n",
    "                top = student\n",
    "        \n",
    "        if top is None:\n",
    "            return None\n",
    "        return f\"Top Student is {top.name} with average {max_avg:.2f}\"\n",
    "    \n",
    "    def add_student(self, name):\n",
    "        if name not in self.students:\n",
    "            self.students[name] = Student(name)\n",
    "            print(f\"✅ Student {name} added.\")\n",
    "        else:\n",
    "            print(\"⚠️ Student already exists.\")\n",
    "    \n",
    "    def add_grade(self, name, grade):\n",
    "        if name in self.students:\n",
    "            self.students[name].add_grade(grade)\n",
    "            print(f\"✅ Grade {grade} added for {name}.\")\n",
    "        else:\n",
    "            print(\"⚠️ Student not found.\")\n",
    "    \n",
    "    def show_students(self):\n",
    "        if not self.students:\n",
    "            print(\"⚠️ No students available.\")\n",
    "        for student in self.students.values():\n",
    "            print(student)\n"
   ]
  },
  {
   "cell_type": "code",
   "execution_count": 104,
   "id": "4c88976f",
   "metadata": {},
   "outputs": [
    {
     "name": "stdout",
     "output_type": "stream",
     "text": [
      "✅ Student Alice added.\n",
      "✅ Student Bob added.\n",
      "✅ Student Carol added.\n",
      "✅ Grade 90 added for Alice.\n",
      "✅ Grade 80 added for Alice.\n",
      "✅ Grade 100 added for Bob.\n",
      "✅ Grade 40 added for Bob.\n",
      "Top Student is Alice with average 85.00\n"
     ]
    }
   ],
   "source": [
    "gm = GradeManager()\n",
    "gm.add_student(\"Alice\")\n",
    "gm.add_student(\"Bob\")\n",
    "gm.add_student(\"Carol\")\n",
    "\n",
    "gm.add_grade(\"Alice\", 90)\n",
    "gm.add_grade(\"Alice\", 80)\n",
    "gm.add_grade(\"Bob\", 100)\n",
    "gm.add_grade(\"Bob\", 40)\n",
    "\n",
    "print(gm.top_student())  "
   ]
  },
  {
   "cell_type": "code",
   "execution_count": null,
   "id": "c5783582",
   "metadata": {},
   "outputs": [],
   "source": []
  }
 ],
 "metadata": {
  "kernelspec": {
   "display_name": "Python 3",
   "language": "python",
   "name": "python3"
  },
  "language_info": {
   "codemirror_mode": {
    "name": "ipython",
    "version": 3
   },
   "file_extension": ".py",
   "mimetype": "text/x-python",
   "name": "python",
   "nbconvert_exporter": "python",
   "pygments_lexer": "ipython3",
   "version": "3.11.9"
  }
 },
 "nbformat": 4,
 "nbformat_minor": 5
}
