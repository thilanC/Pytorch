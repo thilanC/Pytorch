{
 "cells": [
  {
   "cell_type": "code",
   "execution_count": 1,
   "id": "dff5c718",
   "metadata": {},
   "outputs": [
    {
     "name": "stdout",
     "output_type": "stream",
     "text": [
      "10 <class 'int'>\n"
     ]
    }
   ],
   "source": [
    "x= 10\n",
    "\n",
    "print(x,type(x))"
   ]
  },
  {
   "cell_type": "code",
   "execution_count": 2,
   "id": "eb963b5e",
   "metadata": {},
   "outputs": [
    {
     "name": "stdout",
     "output_type": "stream",
     "text": [
      "3.14 <class 'float'>\n"
     ]
    }
   ],
   "source": [
    "pi = 3.14\n",
    "print(pi,type(pi))"
   ]
  },
  {
   "cell_type": "code",
   "execution_count": 3,
   "id": "a0f3649f",
   "metadata": {},
   "outputs": [
    {
     "name": "stdout",
     "output_type": "stream",
     "text": [
      "Deepak <class 'str'>\n"
     ]
    }
   ],
   "source": [
    "name = \"Deepak\"\n",
    "print(name,type(name))"
   ]
  },
  {
   "cell_type": "code",
   "execution_count": 4,
   "id": "04be5828",
   "metadata": {},
   "outputs": [
    {
     "name": "stdout",
     "output_type": "stream",
     "text": [
      "True <class 'bool'>\n"
     ]
    }
   ],
   "source": [
    "is_student = True\n",
    "print(is_student,type(is_student))"
   ]
  },
  {
   "cell_type": "markdown",
   "id": "9458c3de",
   "metadata": {},
   "source": [
    "List (ordered, changeable)"
   ]
  },
  {
   "cell_type": "code",
   "execution_count": 5,
   "id": "b7588efc",
   "metadata": {},
   "outputs": [
    {
     "name": "stdout",
     "output_type": "stream",
     "text": [
      "[1, 2, 3, 4, 5] <class 'list'>\n"
     ]
    }
   ],
   "source": [
    "num_list = [1, 2, 3, 4, 5]\n",
    "print(num_list,type(num_list))"
   ]
  },
  {
   "cell_type": "code",
   "execution_count": 6,
   "id": "2bb4c88f",
   "metadata": {},
   "outputs": [
    {
     "name": "stdout",
     "output_type": "stream",
     "text": [
      "[1, 2, 3, 4, 5, 6]\n"
     ]
    }
   ],
   "source": [
    "num_list.append(6)\n",
    "print(num_list)"
   ]
  },
  {
   "cell_type": "markdown",
   "id": "ba977ee3",
   "metadata": {},
   "source": [
    "Tuple (ordered, unchangeable)"
   ]
  },
  {
   "cell_type": "code",
   "execution_count": 8,
   "id": "1b9cce14",
   "metadata": {},
   "outputs": [
    {
     "name": "stdout",
     "output_type": "stream",
     "text": [
      "(10.0, 20.0) <class 'tuple'>\n"
     ]
    }
   ],
   "source": [
    "coords = (10.0, 20.0)\n",
    "print(coords,type(coords))"
   ]
  },
  {
   "cell_type": "code",
   "execution_count": 9,
   "id": "850f579e",
   "metadata": {},
   "outputs": [
    {
     "name": "stdout",
     "output_type": "stream",
     "text": [
      "10.0\n"
     ]
    }
   ],
   "source": [
    "print(coords[0])"
   ]
  },
  {
   "cell_type": "markdown",
   "id": "38744234",
   "metadata": {},
   "source": [
    "Set (unordered, unique values)"
   ]
  },
  {
   "cell_type": "code",
   "execution_count": 10,
   "id": "880aff47",
   "metadata": {},
   "outputs": [
    {
     "name": "stdout",
     "output_type": "stream",
     "text": [
      "{1, 2, 3}\n"
     ]
    }
   ],
   "source": [
    "unique = {1, 2, 2, 3}\n",
    "print(unique)  # {1, 2, 3}"
   ]
  },
  {
   "cell_type": "markdown",
   "id": "c2b12232",
   "metadata": {},
   "source": [
    "Dictionary (key-value pairs)"
   ]
  },
  {
   "cell_type": "code",
   "execution_count": 11,
   "id": "14a181ce",
   "metadata": {},
   "outputs": [
    {
     "name": "stdout",
     "output_type": "stream",
     "text": [
      "Alice\n",
      "21\n"
     ]
    }
   ],
   "source": [
    "student = {\"name\": \"Alice\", \"age\": 21}\n",
    "print(student[\"name\"])  # Alice\n",
    "print(student.get(\"age\"))  # 21"
   ]
  },
  {
   "cell_type": "code",
   "execution_count": 12,
   "id": "0718ab4a",
   "metadata": {},
   "outputs": [
    {
     "name": "stdout",
     "output_type": "stream",
     "text": [
      "x is greater than 10\n"
     ]
    }
   ],
   "source": [
    "x = 15\n",
    "if x > 10:\n",
    "    print(\"x is greater than 10\")\n",
    "else:\n",
    "    print(\"x is 10 or less\")\n"
   ]
  },
  {
   "cell_type": "code",
   "execution_count": 13,
   "id": "f5e5fbc8",
   "metadata": {},
   "outputs": [
    {
     "name": "stdout",
     "output_type": "stream",
     "text": [
      "0\n",
      "1\n",
      "2\n",
      "3\n",
      "4\n"
     ]
    }
   ],
   "source": [
    "for i in range(5):\n",
    "    print(i)  # 0 to 4\n"
   ]
  },
  {
   "cell_type": "code",
   "execution_count": 14,
   "id": "f5029cb5",
   "metadata": {},
   "outputs": [
    {
     "name": "stdout",
     "output_type": "stream",
     "text": [
      "1\n",
      "2\n",
      "3\n",
      "4\n"
     ]
    }
   ],
   "source": [
    "for i in range(1,5):\n",
    "    print(i)  # 0 to 4\n"
   ]
  },
  {
   "cell_type": "code",
   "execution_count": 15,
   "id": "7bc2edd7",
   "metadata": {},
   "outputs": [
    {
     "name": "stdout",
     "output_type": "stream",
     "text": [
      "Count: 0\n",
      "Count: 1\n",
      "Count: 2\n"
     ]
    }
   ],
   "source": [
    "count = 0\n",
    "while count < 3:\n",
    "    print(\"Count:\", count)\n",
    "    count += 1\n"
   ]
  },
  {
   "cell_type": "code",
   "execution_count": 16,
   "id": "649a9381",
   "metadata": {},
   "outputs": [
    {
     "name": "stdout",
     "output_type": "stream",
     "text": [
      "Hello, PyTorch!\n"
     ]
    }
   ],
   "source": [
    "def greet(name):\n",
    "    return f\"Hello, {name}!\"\n",
    "\n",
    "print(greet(\"PyTorch\"))  # Hello, PyTorch!\n"
   ]
  },
  {
   "cell_type": "code",
   "execution_count": 17,
   "id": "96ecc0b9",
   "metadata": {},
   "outputs": [
    {
     "name": "stdout",
     "output_type": "stream",
     "text": [
      "9\n",
      "27\n"
     ]
    }
   ],
   "source": [
    "def power(x, y=2):\n",
    "    return x ** y\n",
    "\n",
    "print(power(3))     # 9 (3^2)\n",
    "print(power(3, 3))  # 27 (3^3)\n"
   ]
  },
  {
   "cell_type": "code",
   "execution_count": 18,
   "id": "398efc40",
   "metadata": {},
   "outputs": [
    {
     "name": "stdout",
     "output_type": "stream",
     "text": [
      "4.0\n"
     ]
    }
   ],
   "source": [
    "import math\n",
    "print(math.sqrt(16))  # 4.0\n"
   ]
  },
  {
   "cell_type": "code",
   "execution_count": 1,
   "id": "98405c21",
   "metadata": {},
   "outputs": [
    {
     "name": "stdout",
     "output_type": "stream",
     "text": [
      "Buddy says Woof!\n"
     ]
    }
   ],
   "source": [
    "class Dog:\n",
    "    def __init__(self, name):\n",
    "        self.name = name\n",
    "    \n",
    "    def bark(self):\n",
    "        return f\"{self.name} says Woof!\"\n",
    "\n",
    "dog1 = Dog(\"Buddy\")\n",
    "print(dog1.bark())  # Buddy says Woof!\n"
   ]
  },
  {
   "cell_type": "code",
   "execution_count": 2,
   "id": "9a8af916",
   "metadata": {},
   "outputs": [
    {
     "name": "stdout",
     "output_type": "stream",
     "text": [
      "Meow\n"
     ]
    }
   ],
   "source": [
    "class Animal:\n",
    "    def sound(self):\n",
    "        return \"Some sound\"\n",
    "\n",
    "class Cat(Animal):\n",
    "    def sound(self):\n",
    "        return \"Meow\"\n",
    "\n",
    "cat = Cat()\n",
    "print(cat.sound())  # Meow\n"
   ]
  },
  {
   "cell_type": "code",
   "execution_count": null,
   "id": "796f6720",
   "metadata": {},
   "outputs": [],
   "source": []
  }
 ],
 "metadata": {
  "kernelspec": {
   "display_name": "pytorch_env",
   "language": "python",
   "name": "python3"
  },
  "language_info": {
   "codemirror_mode": {
    "name": "ipython",
    "version": 3
   },
   "file_extension": ".py",
   "mimetype": "text/x-python",
   "name": "python",
   "nbconvert_exporter": "python",
   "pygments_lexer": "ipython3",
   "version": "3.12.11"
  }
 },
 "nbformat": 4,
 "nbformat_minor": 5
}
